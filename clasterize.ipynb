{
 "cells": [
  {
   "cell_type": "code",
   "execution_count": 1,
   "metadata": {},
   "outputs": [
    {
     "output_type": "execute_result",
     "data": {
      "text/plain": "          0                                                  1  \\\n0    300000         «Наёмники блокчейна» — как ими становятся?   \n1    300002                Динамичность должна быть безопасной   \n2    300004  Издательства выступают против блокировщика рек...   \n3    300006    Выход из зоны комфорта, как новая бизнес-модель   \n4    300008  «Уберизация» поможет российскому рынку рекрути...   \n..      ...                                                ...   \n177  300390  Капитализация Kamcord превысила $100 млн после...   \n178  300392  Конференция ISDEF-2016 в Казани: почему это бы...   \n179  300394                 AVO и другие альтернативы роумингу   \n180  300396  Шпаргалка в офис: ключевые метрики для развити...   \n181  300398              Nokia хочет выкупить стартап Withings   \n\n                                                     2  \\\n0    ['Dash', 'блокчейн', 'криптовалюта', 'управлен...   \n1    ['стартапы', 'программы', 'разработка программ...   \n2    ['mozilla', 'Brave', 'блокировщики рекламы', '...   \n3    ['бизнес-модель', 'it', 'стартап', 'интернет',...   \n4    ['mail.ru group', 'headhunter', 'российский ры...   \n..                                                 ...   \n177  ['Time Warner', 'time warner cable', 'kamcord'...   \n178  ['isdef', 'конференция', 'ит-бизнес', '\\n     ...   \n179  ['роуминг', 'voip', 'конкуренты', 'стартапы', ...   \n180  ['метрики', 'развитие бизнеса', '\\n           ...   \n181  ['nokia', 'withings', 'alcatel-lucent', 'here'...   \n\n                              3  \n0    data/habr/post__300000.txt  \n1    data/habr/post__300002.txt  \n2    data/habr/post__300004.txt  \n3    data/habr/post__300006.txt  \n4    data/habr/post__300008.txt  \n..                          ...  \n177  data/habr/post__300390.txt  \n178  data/habr/post__300392.txt  \n179  data/habr/post__300394.txt  \n180  data/habr/post__300396.txt  \n181  data/habr/post__300398.txt  \n\n[182 rows x 4 columns]",
      "text/html": "<div>\n<style scoped>\n    .dataframe tbody tr th:only-of-type {\n        vertical-align: middle;\n    }\n\n    .dataframe tbody tr th {\n        vertical-align: top;\n    }\n\n    .dataframe thead th {\n        text-align: right;\n    }\n</style>\n<table border=\"1\" class=\"dataframe\">\n  <thead>\n    <tr style=\"text-align: right;\">\n      <th></th>\n      <th>0</th>\n      <th>1</th>\n      <th>2</th>\n      <th>3</th>\n    </tr>\n  </thead>\n  <tbody>\n    <tr>\n      <th>0</th>\n      <td>300000</td>\n      <td>«Наёмники блокчейна» — как ими становятся?</td>\n      <td>['Dash', 'блокчейн', 'криптовалюта', 'управлен...</td>\n      <td>data/habr/post__300000.txt</td>\n    </tr>\n    <tr>\n      <th>1</th>\n      <td>300002</td>\n      <td>Динамичность должна быть безопасной</td>\n      <td>['стартапы', 'программы', 'разработка программ...</td>\n      <td>data/habr/post__300002.txt</td>\n    </tr>\n    <tr>\n      <th>2</th>\n      <td>300004</td>\n      <td>Издательства выступают против блокировщика рек...</td>\n      <td>['mozilla', 'Brave', 'блокировщики рекламы', '...</td>\n      <td>data/habr/post__300004.txt</td>\n    </tr>\n    <tr>\n      <th>3</th>\n      <td>300006</td>\n      <td>Выход из зоны комфорта, как новая бизнес-модель</td>\n      <td>['бизнес-модель', 'it', 'стартап', 'интернет',...</td>\n      <td>data/habr/post__300006.txt</td>\n    </tr>\n    <tr>\n      <th>4</th>\n      <td>300008</td>\n      <td>«Уберизация» поможет российскому рынку рекрути...</td>\n      <td>['mail.ru group', 'headhunter', 'российский ры...</td>\n      <td>data/habr/post__300008.txt</td>\n    </tr>\n    <tr>\n      <th>...</th>\n      <td>...</td>\n      <td>...</td>\n      <td>...</td>\n      <td>...</td>\n    </tr>\n    <tr>\n      <th>177</th>\n      <td>300390</td>\n      <td>Капитализация Kamcord превысила $100 млн после...</td>\n      <td>['Time Warner', 'time warner cable', 'kamcord'...</td>\n      <td>data/habr/post__300390.txt</td>\n    </tr>\n    <tr>\n      <th>178</th>\n      <td>300392</td>\n      <td>Конференция ISDEF-2016 в Казани: почему это бы...</td>\n      <td>['isdef', 'конференция', 'ит-бизнес', '\\n     ...</td>\n      <td>data/habr/post__300392.txt</td>\n    </tr>\n    <tr>\n      <th>179</th>\n      <td>300394</td>\n      <td>AVO и другие альтернативы роумингу</td>\n      <td>['роуминг', 'voip', 'конкуренты', 'стартапы', ...</td>\n      <td>data/habr/post__300394.txt</td>\n    </tr>\n    <tr>\n      <th>180</th>\n      <td>300396</td>\n      <td>Шпаргалка в офис: ключевые метрики для развити...</td>\n      <td>['метрики', 'развитие бизнеса', '\\n           ...</td>\n      <td>data/habr/post__300396.txt</td>\n    </tr>\n    <tr>\n      <th>181</th>\n      <td>300398</td>\n      <td>Nokia хочет выкупить стартап Withings</td>\n      <td>['nokia', 'withings', 'alcatel-lucent', 'here'...</td>\n      <td>data/habr/post__300398.txt</td>\n    </tr>\n  </tbody>\n</table>\n<p>182 rows × 4 columns</p>\n</div>"
     },
     "metadata": {},
     "execution_count": 1
    }
   ],
   "source": [
    "import os\n",
    "import pandas as pd\n",
    "data = pd.read_csv('data/data.csv', header=None)\n",
    "data"
   ]
  },
  {
   "cell_type": "code",
   "execution_count": 2,
   "metadata": {},
   "outputs": [],
   "source": [
    "from utils import read_file\n",
    "publications = [' '.join((title, read_file(path))) for title, path in zip(data[1], data[3])][:]\n",
    "joined_publications = ' '.join(publications)"
   ]
  },
  {
   "cell_type": "code",
   "execution_count": 3,
   "metadata": {
    "tags": []
   },
   "outputs": [
    {
     "output_type": "stream",
     "name": "stderr",
     "text": "[nltk_data] Downloading package stopwords to\n[nltk_data]     C:\\Users\\alexa\\AppData\\Roaming\\nltk_data...\n[nltk_data]   Package stopwords is already up-to-date!\n[nltk_data] Downloading package punkt to\n[nltk_data]     C:\\Users\\alexa\\AppData\\Roaming\\nltk_data...\n[nltk_data]   Package punkt is already up-to-date!\n"
    }
   ],
   "source": [
    "import nltk\n",
    "nltk.download('stopwords')\n",
    "nltk.download('punkt')\n",
    "from nltk.corpus import stopwords\n",
    "from nltk.stem import SnowballStemmer\n",
    "from nltk.tokenize import word_tokenize"
   ]
  },
  {
   "cell_type": "markdown",
   "metadata": {},
   "source": [
    "## Предобработки\n",
    "- Удаление пробельных символов\n",
    "- Удаление спец символов\n",
    "- Токенезация\n",
    "- Удаление стандартного списка стоп-слов\n",
    "- Удаление чисел\n",
    "- Приведение к нижнему регистру"
   ]
  },
  {
   "cell_type": "code",
   "execution_count": 4,
   "metadata": {},
   "outputs": [],
   "source": [
    "import re\n",
    "from utils import compose\n",
    "def remove_stopwords(stop_words):\n",
    "    return lambda tokens: (token for token in tokens if token.lower() not in stop_words)\n",
    "def tolower(tokens):\n",
    "    return (token.lower() for token in tokens)\n",
    "def tokenize(text):\n",
    "    return word_tokenize(text, language='russian')\n",
    "def stem(stemmer):\n",
    "    return lambda tokens: (stemmer.stem(token) for token in tokens)\n",
    "def remove_numbers(tokens):\n",
    "    def is_number(string):\n",
    "        try:\n",
    "            float(string)\n",
    "            return True\n",
    "        except ValueError:\n",
    "            return False\n",
    "    return (token for token in tokens if not is_number(token))\n",
    "def remove_spaces(text):\n",
    "    return re.sub(r'\\s+', ' ', text)\n",
    "def remove_symbols(symbols, separator=' '):\n",
    "    return lambda text: re.sub(symbols + '+', separator, text)\n",
    "def remove_single(tokens):\n",
    "    return (token for token in tokens if len(token) != 1)"
   ]
  },
  {
   "cell_type": "markdown",
   "metadata": {},
   "source": [
    "## Специальные символы\n",
    "- Арифметические операции\n",
    "- Знаки препинания\n",
    "- Различные скобки\n",
    "- Слэши\n",
    "- \"Мягкий\" дефис: \\xad \n",
    "- А также $, #, №, @, €, •"
   ]
  },
  {
   "cell_type": "code",
   "execution_count": 5,
   "metadata": {},
   "outputs": [],
   "source": [
    "special_symbols = r'''[-+\\%*;:\\'\"()[\\]^$#№@!.,?/|\\\\<>{}—«»€•–]'''\n",
    "xad_symbol = r'''\\xad'''"
   ]
  },
  {
   "cell_type": "code",
   "execution_count": 6,
   "metadata": {},
   "outputs": [],
   "source": [
    "stemmer = SnowballStemmer('russian')\n",
    "rus_stem = stem(stemmer)"
   ]
  },
  {
   "cell_type": "code",
   "execution_count": 7,
   "metadata": {},
   "outputs": [],
   "source": [
    "default_stop_words = set((stemmer.stem(stopword.lower()) for stopword in stopwords.words('russian')))\n",
    "remove_default_stopwords = remove_stopwords(default_stop_words)"
   ]
  },
  {
   "cell_type": "code",
   "execution_count": 8,
   "metadata": {},
   "outputs": [],
   "source": [
    "import json\n",
    "with open('stopwords.json', 'r', encoding='utf-8') as f:\n",
    "    own_stop_words = set((stemmer.stem(stopword.lower()) for stopword in json.loads(f.read())))\n",
    "remove_own_stopwords = remove_stopwords(own_stop_words)"
   ]
  },
  {
   "cell_type": "code",
   "execution_count": 9,
   "metadata": {},
   "outputs": [],
   "source": [
    "preprocesses = [remove_spaces, remove_symbols(special_symbols), remove_symbols(xad_symbol, ''), tokenize, rus_stem, remove_default_stopwords, remove_own_stopwords, remove_single, remove_numbers, tolower]"
   ]
  },
  {
   "cell_type": "code",
   "execution_count": 10,
   "metadata": {},
   "outputs": [],
   "source": [
    "preprocessed_publications = [' '.join(compose(preprocesses)(publication)) for publication in publications]\n",
    "joined_preprocessed_publications = ' '.join(preprocessed_publications)"
   ]
  },
  {
   "cell_type": "markdown",
   "metadata": {},
   "source": [
    "## Меры\n",
    "- Обычная Евклидова [0, ∞)\n",
    "- Нормализованная Евклидова \\[0, 2]\n",
    "- Косинусное расстояние \\[0, 1]"
   ]
  },
  {
   "cell_type": "code",
   "execution_count": 11,
   "metadata": {},
   "outputs": [],
   "source": [
    "import scipy as sp\n",
    "def simple_eucl(v1, v2):\n",
    "    delta = v1 - v2\n",
    "    return sp.linalg.norm(delta.toarray())\n",
    "def normal_eucl(v1, v2):\n",
    "    normal_v1 = v1 / sp.linalg.norm(v1.toarray())\n",
    "    normal_v2 = v2 / sp.linalg.norm(v2.toarray())\n",
    "    delta = normal_v1 - normal_v2\n",
    "    return sp.linalg.norm(delta.toarray())\n",
    "def cosine(v1, v2):\n",
    "    return sp.spatial.distance.cosine(v1.toarray(), v2.toarray())"
   ]
  },
  {
   "cell_type": "code",
   "execution_count": 12,
   "metadata": {},
   "outputs": [],
   "source": [
    "import numpy as np\n",
    "from sklearn.feature_extraction.text import CountVectorizer, TfidfVectorizer\n",
    "def make_count(src, min_df=1, max_df=1.5, *, verbose=False, request=None):\n",
    "    vectorizer = CountVectorizer(min_df=min_df, max_df=max_df)\n",
    "    x_train = vectorizer.fit_transform(src)\n",
    "    if verbose:\n",
    "        sample_count, feature_count = x_train.shape\n",
    "        print(f'titles_count={sample_count}, words_count={feature_count}')\n",
    "    if request:\n",
    "        return vectorizer, x_train, vectorizer.transform([request])\n",
    "    return vectorizer, x_train\n",
    "def make_tf_idf(src, *, verbose=False, request=None, top=50):\n",
    "    vectorizer = TfidfVectorizer()\n",
    "    x_train = vectorizer.fit_transform(src)\n",
    "    if verbose:\n",
    "        idxs = np.argsort(vectorizer.idf_)[::-1]\n",
    "        features = vectorizer.get_feature_names()\n",
    "        print(f'titles_count={x_train.shape[0]}, words_count={x_train.shape[1]}')\n",
    "        print([features[i] for i in idxs[-top:]])\n",
    "        print([features[i] for i in idxs[:top]])\n",
    "    if request:\n",
    "        return vectorizer, x_train, vectorizer.transform([request])\n",
    "    return vectorizer, x_train"
   ]
  },
  {
   "cell_type": "code",
   "execution_count": 13,
   "metadata": {},
   "outputs": [],
   "source": [
    "def get_distances(dist_func, src):\n",
    "    return sorted(((dist_func(x_train.getrow(idx), request_vec), text, idx) for idx, text in enumerate(src)), key=lambda x: x[0])"
   ]
  },
  {
   "cell_type": "code",
   "execution_count": 14,
   "metadata": {},
   "outputs": [],
   "source": [
    "def check_results(src, count=1):\n",
    "    total = [(dist, get_distances(dist, src)[:count]) for dist in distances]\n",
    "    for dist_func, dist_res  in total:\n",
    "        print(f'-----------{dist_func.__name__}-----------')\n",
    "        for idx, res in enumerate(dist_res):\n",
    "            print(f'{idx + 1}. Best publication is {res[2]} with distance = {res[0]} :\\n {res[1][:100]}')\n",
    "    return total"
   ]
  },
  {
   "cell_type": "code",
   "execution_count": 15,
   "metadata": {},
   "outputs": [],
   "source": [
    "from sklearn.cluster import KMeans\n",
    "def train(n_clusters=3):\n",
    "    model = KMeans(n_clusters=n_clusters, init='k-means++', max_iter=100, n_init=1)\n",
    "    model.fit(x_train)\n",
    "    return model\n",
    "def print_model():\n",
    "    print('Top terms per cluster:')\n",
    "    order_centroids = model.cluster_centers_.argsort()[:, ::-1]\n",
    "    terms = vectorizer.get_feature_names()\n",
    "    for i in range(n_clusters):\n",
    "        print(f'Cluster {i}:')\n",
    "        for j in order_centroids[i, :10]:\n",
    "            print(f' {terms[j]}')"
   ]
  },
  {
   "cell_type": "code",
   "execution_count": 16,
   "metadata": {},
   "outputs": [],
   "source": [
    "request = 'большие данные'\n",
    "n_clusters = 3\n",
    "preprocessed_request = ' '.join(list(compose([tokenize, rus_stem])(request)))\n",
    "distances = [simple_eucl, normal_eucl, cosine]"
   ]
  },
  {
   "cell_type": "code",
   "execution_count": 17,
   "metadata": {
    "tags": []
   },
   "outputs": [
    {
     "output_type": "stream",
     "name": "stdout",
     "text": "titles_count=182, words_count=26843\n-----------simple_eucl-----------\n1. Best publication is 25 with distance = 8.0 :\n Мы добавили PayPal для оплаты услуг на «Моём круге» В последнее время участились жалобы зарубежных к\n2. Best publication is 11 with distance = 8.366600265340756 :\n Интересные события, произошедшие в выходные Как всегда в понедельник, короткая подборка того, что вы\n3. Best publication is 88 with distance = 9.591663046625438 :\n Интересные события, произошедшие в выходные Как всегда в понедельник, короткая подборка того, что вы\n4. Best publication is 62 with distance = 9.899494936611665 :\n VLOG программиста о программировании и жизни в Германии Привет!\n\nВот уже почти два года я живу и раб\n5. Best publication is 165 with distance = 12.083045973594572 :\n Интересные события, произошедшие в выходные Как всегда в понедельник, короткая подборка того, что вы\n-----------normal_eucl-----------\n1. Best publication is 156 with distance = 1.121616326697313 :\n Иллюзия больших данных Действительно ли big data – это объективная насущная проблема для бизнеса?\nМо\n2. Best publication is 170 with distance = 1.1734599169609592 :\n Во что превратятся большие данные Big data – это большой потенциал для бизнеса.\nИх сбор, хранение, о\n3. Best publication is 159 with distance = 1.3312253848439142 :\n Персональные данные: новые правила в Европейском Союзе Новые правила о защите персональных данных (G\n4. Best publication is 52 with distance = 1.3351303469944191 :\n Как легально получать информацию о пользователях сайта из их соц. сетей \n\nКакую информацию о пользов\n5. Best publication is 124 with distance = 1.3381309991175716 :\n Источник бесплатных идей для стартапов Крупнейшая в мире транспортная компания Uber не владеет автом\n-----------cosine-----------\n1. Best publication is 156 with distance = 0.6290115921569865 :\n Иллюзия больших данных Действительно ли big data – это объективная насущная проблема для бизнеса?\nМо\n2. Best publication is 170 with distance = 0.6885040883570106 :\n Во что превратятся большие данные Big data – это большой потенциал для бизнеса.\nИх сбор, хранение, о\n3. Best publication is 159 with distance = 0.8860805126264136 :\n Персональные данные: новые правила в Европейском Союзе Новые правила о защите персональных данных (G\n4. Best publication is 52 with distance = 0.891286521732719 :\n Как легально получать информацию о пользователях сайта из их соц. сетей \n\nКакую информацию о пользов\n5. Best publication is 124 with distance = 0.8952972853996954 :\n Источник бесплатных идей для стартапов Крупнейшая в мире транспортная компания Uber не владеет автом\n"
    }
   ],
   "source": [
    "vectorizer, x_train, request_vec = make_count(publications, verbose=True, request=request)\n",
    "results = check_results(publications, 5)"
   ]
  },
  {
   "cell_type": "code",
   "execution_count": 18,
   "metadata": {
    "tags": []
   },
   "outputs": [
    {
     "output_type": "stream",
     "name": "stdout",
     "text": "Top terms per cluster:\nCluster 0:\n не\n на\n что\n это\n для\n как\n вы\n то\n по\n мы\nCluster 1:\n didi\n lyft\n такси\n cabify\n сервис\n миллионов\n компания\n uber\n также\n на\nCluster 2:\n на\n не\n для\n что\n по\n как\n это\n из\n от\n за\n"
    }
   ],
   "source": [
    "model = train(n_clusters)\n",
    "print_model()"
   ]
  },
  {
   "cell_type": "code",
   "execution_count": 19,
   "metadata": {
    "tags": []
   },
   "outputs": [
    {
     "output_type": "stream",
     "name": "stdout",
     "text": "titles_count=182, words_count=26843\n['больше', 'поэтому', 'быть', 'со', 'во', 'этого', 'который', 'вы', 'тем', 'уже', 'того', 'когда', 'также', 'они', 'чем', 'можно', 'том', 'будет', 'он', 'есть', 'время', 'этом', 'же', 'чтобы', 'мы', 'его', 'более', 'при', 'если', 'до', 'может', 'их', 'компании', 'только', 'которые', 'все', 'то', 'или', 'так', 'но', 'это', 'за', 'от', 'как', 'из', 'не', 'по', 'для', 'что', 'на']\n['ящиках', 'пассажирский', 'патентными', 'патентные', 'патентному', 'патентной', 'дешевого', 'патенте', 'патентам', 'дешевой', 'дешевом', 'пателя', 'патель', 'пассивный', 'пассивному', 'пассажиры', 'пассажирам', 'децентрализованного', 'пассажира', 'пассажир', 'паспортные', 'деятелей', 'паршивое', 'деятели', 'деятельницей', 'джадд', 'партнёрства', 'партнёрских', 'джастин', 'джез', 'джеймс', 'партнёрам', 'децентрализованной', 'патентование', 'джереми', 'педантично', 'дефицитному', 'пенсионный', 'пенсионного', 'пенсионеры', 'пенсии', 'пенициллин', 'пенг', 'пекки', 'пекка', 'пек', 'пейте', 'пейзажем', 'пейджа', 'дефолтный']\n-----------simple_eucl-----------\n1. Best publication is 156 with distance = 1.1031101983369873 :\n Иллюзия больших данных Действительно ли big data – это объективная насущная проблема для бизнеса?\nМо\n2. Best publication is 170 with distance = 1.1893676808933489 :\n Во что превратятся большие данные Big data – это большой потенциал для бизнеса.\nИх сбор, хранение, о\n3. Best publication is 124 with distance = 1.3545491971842507 :\n Источник бесплатных идей для стартапов Крупнейшая в мире транспортная компания Uber не владеет автом\n4. Best publication is 159 with distance = 1.3611175361777068 :\n Персональные данные: новые правила в Европейском Союзе Новые правила о защите персональных данных (G\n5. Best publication is 52 with distance = 1.3615254591817108 :\n Как легально получать информацию о пользователях сайта из их соц. сетей \n\nКакую информацию о пользов\n-----------normal_eucl-----------\n1. Best publication is 156 with distance = 1.1031101983369875 :\n Иллюзия больших данных Действительно ли big data – это объективная насущная проблема для бизнеса?\nМо\n2. Best publication is 170 with distance = 1.1893676808933482 :\n Во что превратятся большие данные Big data – это большой потенциал для бизнеса.\nИх сбор, хранение, о\n3. Best publication is 124 with distance = 1.3545491971842505 :\n Источник бесплатных идей для стартапов Крупнейшая в мире транспортная компания Uber не владеет автом\n4. Best publication is 159 with distance = 1.3611175361777066 :\n Персональные данные: новые правила в Европейском Союзе Новые правила о защите персональных данных (G\n5. Best publication is 52 with distance = 1.3615254591817105 :\n Как легально получать информацию о пользователях сайта из их соц. сетей \n\nКакую информацию о пользов\n-----------cosine-----------\n1. Best publication is 156 with distance = 0.6084260548375338 :\n Иллюзия больших данных Действительно ли big data – это объективная насущная проблема для бизнеса?\nМо\n2. Best publication is 170 with distance = 0.7072977401768106 :\n Во что превратятся большие данные Big data – это большой потенциал для бизнеса.\nИх сбор, хранение, о\n3. Best publication is 124 with distance = 0.9174017637962486 :\n Источник бесплатных идей для стартапов Крупнейшая в мире транспортная компания Uber не владеет автом\n4. Best publication is 159 with distance = 0.9263204736452351 :\n Персональные данные: новые правила в Европейском Союзе Новые правила о защите персональных данных (G\n5. Best publication is 52 with distance = 0.9268757879999837 :\n Как легально получать информацию о пользователях сайта из их соц. сетей \n\nКакую информацию о пользов\n"
    }
   ],
   "source": [
    "vectorizer, x_train, request_vec = make_tf_idf(publications, verbose=True, request=request)\n",
    "tfidf_results = check_results(publications, 5)"
   ]
  },
  {
   "cell_type": "code",
   "execution_count": 20,
   "metadata": {
    "tags": []
   },
   "outputs": [
    {
     "output_type": "stream",
     "name": "stdout",
     "text": "Top terms per cluster:\nCluster 0:\n baidu\n video\n cabify\n prime\n kamcord\n подписки\n amazon\n на\n 99\n сервис\nCluster 1:\n вещей\n на\n объектов\n бизнес\n для\n интернет\n не\n или\n iot\n что\nCluster 2:\n на\n не\n что\n для\n это\n по\n вы\n как\n мы\n то\n"
    }
   ],
   "source": [
    "model = train(n_clusters)\n",
    "print_model()"
   ]
  },
  {
   "cell_type": "code",
   "execution_count": 21,
   "metadata": {
    "tags": []
   },
   "outputs": [
    {
     "output_type": "stream",
     "name": "stdout",
     "text": "titles_count=182, words_count=11757\n-----------simple_eucl-----------\n1. Best publication is 25 with distance = 6.855654600401044 :\n добав paypal оплат услуг последн врем участ жалоб зарубежн клиент оплат услуг предлага способ оплат \n2. Best publication is 11 with distance = 7.211102550927978 :\n интересн событ произошедш выходн понедельник коротк подборк могл пропуст выходн дни динамичн должн б\n3. Best publication is 62 with distance = 7.745966692414834 :\n vlog программист программирован жизн герман привет жив работа гамбург август прошл нача вест влог де\n4. Best publication is 88 with distance = 8.660254037844387 :\n интересн событ произошедш выходн понедельник коротк подборк могл пропуст выходн дни большинств онлай\n5. Best publication is 165 with distance = 10.198039027185569 :\n интересн событ произошедш выходн понедельник коротк подборк могл пропуст выходн дни ларр пейдж ежене\n-----------normal_eucl-----------\n1. Best publication is 156 with distance = 0.6999828727284622 :\n иллюз дан big data объективн насущн проблем бизнес красив маркетингов ход разработчик мощн компьютер\n2. Best publication is 170 with distance = 0.7445530927918889 :\n преврат дан big data потенциа бизнес сбор хранен обработк аналитик треб внушительн усил расход ресур\n3. Best publication is 159 with distance = 0.942455022232366 :\n персональн дан нов прав европейск союз нов прав защ персональн дан gdpr одобр апрел вступа сил предп\n4. Best publication is 124 with distance = 0.976310227606872 :\n источник бесплатн ид стартап крупн мир транспортн компан uber владеет автомобил популярн социальн се\n5. Best publication is 52 with distance = 1.2233055759557825 :\n легальн получа информац пользовател сайт соц сет информац пользовател получа соц сет метод явля неза\n-----------cosine-----------\n1. Best publication is 156 with distance = 0.24498801105659518 :\n иллюз дан big data объективн насущн проблем бизнес красив маркетингов ход разработчик мощн компьютер\n2. Best publication is 170 with distance = 0.2771796539929836 :\n преврат дан big data потенциа бизнес сбор хранен обработк аналитик треб внушительн усил расход ресур\n3. Best publication is 159 with distance = 0.44411073446550464 :\n персональн дан нов прав европейск союз нов прав защ персональн дан gdpr одобр апрел вступа сил предп\n4. Best publication is 124 with distance = 0.47659083026489113 :\n источник бесплатн ид стартап крупн мир транспортн компан uber владеет автомобил популярн социальн се\n5. Best publication is 52 with distance = 0.7482382660822543 :\n легальн получа информац пользовател сайт соц сет информац пользовател получа соц сет метод явля неза\n"
    }
   ],
   "source": [
    "vectorizer, x_train, request_vec = make_count(preprocessed_publications, verbose=True, request=preprocessed_request)\n",
    "preprocessed_results = check_results(preprocessed_publications, 5)"
   ]
  },
  {
   "cell_type": "code",
   "execution_count": 22,
   "metadata": {
    "tags": []
   },
   "outputs": [
    {
     "output_type": "stream",
     "name": "stdout",
     "text": "Top terms per cluster:\nCluster 0:\n дан\n бизнес\n информац\n аналитик\n решен\n сбор\n информацион\n ресурс\n модел\n инструмент\nCluster 1:\n компан\n бизнес\n пользовател\n работ\n клиент\n нов\n проект\n сайт\n цел\n возможн\nCluster 2:\n код\n характеристик\n безопасн\n обеспечен\n тест\n интеграц\n разработчик\n работа\n непрерывн\n явля\n"
    }
   ],
   "source": [
    "model = train(n_clusters)\n",
    "print_model()"
   ]
  },
  {
   "cell_type": "code",
   "execution_count": 23,
   "metadata": {
    "tags": []
   },
   "outputs": [
    {
     "output_type": "stream",
     "name": "stdout",
     "text": "titles_count=182, words_count=11757\n['главн', 'развит', 'сред', 'информац', 'задач', 'интернет', 'основн', 'сайт', 'вид', 'крупн', 'стал', 'цел', 'последн', 'человек', 'количеств', 'необходим', 'сторон', 'след', 'случа', 'дел', 'говор', 'нача', 'времен', 'люд', 'дела', 'люб', 'проект', 'должн', 'важн', 'например', 'вопрос', 'стат', 'явля', 'результат', 'рынк', 'клиент', 'бизнес', 'поэт', 'дан', 'сдела', 'пользовател', 'получ', 'решен', 'част', 'врем', 'работа', 'работ', 'возможн', 'нов', 'компан']\n['нашеств', 'контактироват', 'конопл', 'коношенк', 'консерв', 'консист', 'консолидирова', 'констант', 'константин', 'констатац', 'констатирова', 'конструирова', 'конструируем', 'консультацион', 'консультирова', 'контактирова', 'контекстуализац', 'конкретик', 'контрастн', 'контролер', 'контролирован', 'контролл', 'контроллер', 'контур', 'конфигурацион', 'конфигурирован', 'конфиденциальн', 'конфликтн', 'концентрацион', 'концепт', 'конч', 'кончин', 'конкурирует', 'конкретизац', 'кольц', 'компаньон', 'комбиниру', 'комедийн', 'комик', 'комикс', 'комильф', 'комиссар', 'коммент', 'комментиру', 'комментируем', 'коммуналк', 'коммуникативн', 'коммуницир', 'компакт', 'компактн']\n-----------simple_eucl-----------\n1. Best publication is 156 with distance = 0.885625175038745 :\n иллюз дан big data объективн насущн проблем бизнес красив маркетингов ход разработчик мощн компьютер\n2. Best publication is 170 with distance = 0.9851442107188265 :\n преврат дан big data потенциа бизнес сбор хранен обработк аналитик треб внушительн усил расход ресур\n3. Best publication is 159 with distance = 1.115628251772851 :\n персональн дан нов прав европейск союз нов прав защ персональн дан gdpr одобр апрел вступа сил предп\n4. Best publication is 124 with distance = 1.1418608268873427 :\n источник бесплатн ид стартап крупн мир транспортн компан uber владеет автомобил популярн социальн се\n5. Best publication is 52 with distance = 1.2981614160442545 :\n легальн получа информац пользовател сайт соц сет информац пользовател получа соц сет метод явля неза\n-----------normal_eucl-----------\n1. Best publication is 156 with distance = 0.8856251750387454 :\n иллюз дан big data объективн насущн проблем бизнес красив маркетингов ход разработчик мощн компьютер\n2. Best publication is 170 with distance = 0.9851442107188264 :\n преврат дан big data потенциа бизнес сбор хранен обработк аналитик треб внушительн усил расход ресур\n3. Best publication is 159 with distance = 1.115628251772851 :\n персональн дан нов прав европейск союз нов прав защ персональн дан gdpr одобр апрел вступа сил предп\n4. Best publication is 124 with distance = 1.1418608268873427 :\n источник бесплатн ид стартап крупн мир транспортн компан uber владеет автомобил популярн социальн се\n5. Best publication is 52 with distance = 1.2981614160442543 :\n легальн получа информац пользовател сайт соц сет информац пользовател получа соц сет метод явля неза\n-----------cosine-----------\n1. Best publication is 156 with distance = 0.3921659753312041 :\n иллюз дан big data объективн насущн проблем бизнес красив маркетингов ход разработчик мощн компьютер\n2. Best publication is 170 with distance = 0.4852545579564097 :\n преврат дан big data потенциа бизнес сбор хранен обработк аналитик треб внушительн усил расход ресур\n3. Best publication is 159 with distance = 0.6223131980768741 :\n персональн дан нов прав европейск союз нов прав защ персональн дан gdpr одобр апрел вступа сил предп\n4. Best publication is 124 with distance = 0.6519230739899229 :\n источник бесплатн ид стартап крупн мир транспортн компан uber владеет автомобил популярн социальн се\n5. Best publication is 52 with distance = 0.8426115310530117 :\n легальн получа информац пользовател сайт соц сет информац пользовател получа соц сет метод явля неза\n"
    }
   ],
   "source": [
    "vectorizer, x_train, request_vec = make_tf_idf(preprocessed_publications, verbose=True, request=preprocessed_request)\n",
    "preprocessed_tfidf_results = check_results(preprocessed_publications, 5)"
   ]
  },
  {
   "cell_type": "code",
   "execution_count": 24,
   "metadata": {
    "tags": []
   },
   "outputs": [
    {
     "output_type": "stream",
     "name": "stdout",
     "text": "Top terms per cluster:\nCluster 0:\n пользовател\n бизнес\n клиент\n компан\n приложен\n дан\n сайт\n реклам\n нов\n продукт\nCluster 1:\n работ\n цел\n люд\n страх\n жизн\n вопрос\n проблем\n компан\n дел\n врем\nCluster 2:\n компан\n фонд\n российск\n миллиард\n росс\n uber\n рынк\n рубл\n проект\n google\n"
    }
   ],
   "source": [
    "model = train(n_clusters)\n",
    "print_model()"
   ]
  },
  {
   "cell_type": "code",
   "execution_count": 25,
   "metadata": {},
   "outputs": [
    {
     "output_type": "execute_result",
     "data": {
      "text/plain": "                         simple_eucl  normal_eucl    cosine\nNot Preprocessed            8.000000     1.121616  0.629012\nPreprocessed                6.855655     0.699983  0.244988\nNot Preprocessed TF-IDF     1.103110     1.103110  0.608426\nPreprocessed TF-IDF         0.885625     0.885625  0.392166",
      "text/html": "<div>\n<style scoped>\n    .dataframe tbody tr th:only-of-type {\n        vertical-align: middle;\n    }\n\n    .dataframe tbody tr th {\n        vertical-align: top;\n    }\n\n    .dataframe thead th {\n        text-align: right;\n    }\n</style>\n<table border=\"1\" class=\"dataframe\">\n  <thead>\n    <tr style=\"text-align: right;\">\n      <th></th>\n      <th>simple_eucl</th>\n      <th>normal_eucl</th>\n      <th>cosine</th>\n    </tr>\n  </thead>\n  <tbody>\n    <tr>\n      <th>Not Preprocessed</th>\n      <td>8.000000</td>\n      <td>1.121616</td>\n      <td>0.629012</td>\n    </tr>\n    <tr>\n      <th>Preprocessed</th>\n      <td>6.855655</td>\n      <td>0.699983</td>\n      <td>0.244988</td>\n    </tr>\n    <tr>\n      <th>Not Preprocessed TF-IDF</th>\n      <td>1.103110</td>\n      <td>1.103110</td>\n      <td>0.608426</td>\n    </tr>\n    <tr>\n      <th>Preprocessed TF-IDF</th>\n      <td>0.885625</td>\n      <td>0.885625</td>\n      <td>0.392166</td>\n    </tr>\n  </tbody>\n</table>\n</div>"
     },
     "metadata": {},
     "execution_count": 25
    }
   ],
   "source": [
    "matrix = pd.DataFrame(data={\n",
    "    'Not Preprocessed': {func.__name__: res[0][0] for func, res in results}, \n",
    "    'Preprocessed': {func.__name__: res[0][0] for func, res in preprocessed_results},\n",
    "    'Not Preprocessed TF-IDF': {func.__name__: res[0][0] for func, res in tfidf_results}, \n",
    "    'Preprocessed TF-IDF': {func.__name__: res[0][0] for func, res in preprocessed_tfidf_results},\n",
    "    }).transpose()\n",
    "matrix"
   ]
  }
 ],
 "metadata": {
  "language_info": {
   "codemirror_mode": {
    "name": "ipython",
    "version": 3
   },
   "file_extension": ".py",
   "mimetype": "text/x-python",
   "name": "python",
   "nbconvert_exporter": "python",
   "pygments_lexer": "ipython3",
   "version": 3
  },
  "orig_nbformat": 2,
  "kernelspec": {
   "name": "python_defaultSpec_1594889369307",
   "display_name": "Python 3.7.6 64-bit ('base': conda)"
  }
 },
 "nbformat": 4,
 "nbformat_minor": 2
}