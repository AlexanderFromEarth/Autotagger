{
 "cells": [
  {
   "cell_type": "code",
   "execution_count": 1,
   "metadata": {},
   "outputs": [
    {
     "output_type": "execute_result",
     "data": {
      "text/plain": "          0                                                  1  \\\n0    300000         «Наёмники блокчейна» — как ими становятся?   \n1    300002                Динамичность должна быть безопасной   \n2    300004  Издательства выступают против блокировщика рек...   \n3    300006    Выход из зоны комфорта, как новая бизнес-модель   \n4    300008  «Уберизация» поможет российскому рынку рекрути...   \n..      ...                                                ...   \n177  300390  Капитализация Kamcord превысила $100 млн после...   \n178  300392  Конференция ISDEF-2016 в Казани: почему это бы...   \n179  300394                 AVO и другие альтернативы роумингу   \n180  300396  Шпаргалка в офис: ключевые метрики для развити...   \n181  300398              Nokia хочет выкупить стартап Withings   \n\n                                                     2  \\\n0    ['Dash', 'блокчейн', 'криптовалюта', 'управлен...   \n1    ['стартапы', 'программы', 'разработка программ...   \n2    ['mozilla', 'Brave', 'блокировщики рекламы', '...   \n3    ['бизнес-модель', 'it', 'стартап', 'интернет',...   \n4    ['mail.ru group', 'headhunter', 'российский ры...   \n..                                                 ...   \n177  ['Time Warner', 'time warner cable', 'kamcord'...   \n178  ['isdef', 'конференция', 'ит-бизнес', '\\n     ...   \n179  ['роуминг', 'voip', 'конкуренты', 'стартапы', ...   \n180  ['метрики', 'развитие бизнеса', '\\n           ...   \n181  ['nokia', 'withings', 'alcatel-lucent', 'here'...   \n\n                              3  \n0    data/habr/post__300000.txt  \n1    data/habr/post__300002.txt  \n2    data/habr/post__300004.txt  \n3    data/habr/post__300006.txt  \n4    data/habr/post__300008.txt  \n..                          ...  \n177  data/habr/post__300390.txt  \n178  data/habr/post__300392.txt  \n179  data/habr/post__300394.txt  \n180  data/habr/post__300396.txt  \n181  data/habr/post__300398.txt  \n\n[182 rows x 4 columns]",
      "text/html": "<div>\n<style scoped>\n    .dataframe tbody tr th:only-of-type {\n        vertical-align: middle;\n    }\n\n    .dataframe tbody tr th {\n        vertical-align: top;\n    }\n\n    .dataframe thead th {\n        text-align: right;\n    }\n</style>\n<table border=\"1\" class=\"dataframe\">\n  <thead>\n    <tr style=\"text-align: right;\">\n      <th></th>\n      <th>0</th>\n      <th>1</th>\n      <th>2</th>\n      <th>3</th>\n    </tr>\n  </thead>\n  <tbody>\n    <tr>\n      <th>0</th>\n      <td>300000</td>\n      <td>«Наёмники блокчейна» — как ими становятся?</td>\n      <td>['Dash', 'блокчейн', 'криптовалюта', 'управлен...</td>\n      <td>data/habr/post__300000.txt</td>\n    </tr>\n    <tr>\n      <th>1</th>\n      <td>300002</td>\n      <td>Динамичность должна быть безопасной</td>\n      <td>['стартапы', 'программы', 'разработка программ...</td>\n      <td>data/habr/post__300002.txt</td>\n    </tr>\n    <tr>\n      <th>2</th>\n      <td>300004</td>\n      <td>Издательства выступают против блокировщика рек...</td>\n      <td>['mozilla', 'Brave', 'блокировщики рекламы', '...</td>\n      <td>data/habr/post__300004.txt</td>\n    </tr>\n    <tr>\n      <th>3</th>\n      <td>300006</td>\n      <td>Выход из зоны комфорта, как новая бизнес-модель</td>\n      <td>['бизнес-модель', 'it', 'стартап', 'интернет',...</td>\n      <td>data/habr/post__300006.txt</td>\n    </tr>\n    <tr>\n      <th>4</th>\n      <td>300008</td>\n      <td>«Уберизация» поможет российскому рынку рекрути...</td>\n      <td>['mail.ru group', 'headhunter', 'российский ры...</td>\n      <td>data/habr/post__300008.txt</td>\n    </tr>\n    <tr>\n      <th>...</th>\n      <td>...</td>\n      <td>...</td>\n      <td>...</td>\n      <td>...</td>\n    </tr>\n    <tr>\n      <th>177</th>\n      <td>300390</td>\n      <td>Капитализация Kamcord превысила $100 млн после...</td>\n      <td>['Time Warner', 'time warner cable', 'kamcord'...</td>\n      <td>data/habr/post__300390.txt</td>\n    </tr>\n    <tr>\n      <th>178</th>\n      <td>300392</td>\n      <td>Конференция ISDEF-2016 в Казани: почему это бы...</td>\n      <td>['isdef', 'конференция', 'ит-бизнес', '\\n     ...</td>\n      <td>data/habr/post__300392.txt</td>\n    </tr>\n    <tr>\n      <th>179</th>\n      <td>300394</td>\n      <td>AVO и другие альтернативы роумингу</td>\n      <td>['роуминг', 'voip', 'конкуренты', 'стартапы', ...</td>\n      <td>data/habr/post__300394.txt</td>\n    </tr>\n    <tr>\n      <th>180</th>\n      <td>300396</td>\n      <td>Шпаргалка в офис: ключевые метрики для развити...</td>\n      <td>['метрики', 'развитие бизнеса', '\\n           ...</td>\n      <td>data/habr/post__300396.txt</td>\n    </tr>\n    <tr>\n      <th>181</th>\n      <td>300398</td>\n      <td>Nokia хочет выкупить стартап Withings</td>\n      <td>['nokia', 'withings', 'alcatel-lucent', 'here'...</td>\n      <td>data/habr/post__300398.txt</td>\n    </tr>\n  </tbody>\n</table>\n<p>182 rows × 4 columns</p>\n</div>"
     },
     "metadata": {},
     "execution_count": 1
    }
   ],
   "source": [
    "import os\n",
    "import pandas as pd\n",
    "data = pd.read_csv('data/data.csv', header=None)\n",
    "data"
   ]
  },
  {
   "cell_type": "markdown",
   "metadata": {},
   "source": [
    "## Выборка\n",
    "- Заголовки включены в текста\n",
    "- Запрос является одним из текстов исключённый из рассмотрения"
   ]
  },
  {
   "cell_type": "code",
   "execution_count": 2,
   "metadata": {},
   "outputs": [],
   "source": [
    "from utils import read_file\n",
    "select = 5\n",
    "publications = [' '.join((title, read_file(path))) for title, path in zip(data[1], data[3])]\n",
    "request = publications[select]\n",
    "publications = publications[:select] + publications[select + 1:]\n",
    "joined_publications = ' '.join(publications)"
   ]
  },
  {
   "cell_type": "code",
   "execution_count": 3,
   "metadata": {
    "tags": []
   },
   "outputs": [
    {
     "output_type": "stream",
     "name": "stderr",
     "text": "[nltk_data] Downloading package stopwords to\n[nltk_data]     C:\\Users\\alexa\\AppData\\Roaming\\nltk_data...\n[nltk_data]   Package stopwords is already up-to-date!\n[nltk_data] Downloading package punkt to\n[nltk_data]     C:\\Users\\alexa\\AppData\\Roaming\\nltk_data...\n[nltk_data]   Package punkt is already up-to-date!\n"
    }
   ],
   "source": [
    "import nltk\n",
    "nltk.download('stopwords')\n",
    "nltk.download('punkt')\n",
    "from nltk.corpus import stopwords\n",
    "from nltk.stem import SnowballStemmer\n",
    "from nltk.tokenize import word_tokenize"
   ]
  },
  {
   "cell_type": "markdown",
   "metadata": {},
   "source": [
    "## Предобработки\n",
    "- Удаление пробельных символов\n",
    "- Удаление спец символов\n",
    "- Токенезация\n",
    "- Стемминг\n",
    "- Удаление стандартного списка стоп-слов\n",
    "- Удаление наших стоп-слов\n",
    "- Удаление чисел\n",
    "- Приведение к нижнему регистру"
   ]
  },
  {
   "cell_type": "code",
   "execution_count": 4,
   "metadata": {},
   "outputs": [],
   "source": [
    "import re\n",
    "from utils import compose\n",
    "def remove_stopwords(stop_words):\n",
    "    return lambda tokens: (token for token in tokens if token.lower() not in stop_words)\n",
    "def tolower(tokens):\n",
    "    return (token.lower() for token in tokens)\n",
    "def tokenize(text):\n",
    "    return word_tokenize(text, language='russian')\n",
    "def stem(stemmer):\n",
    "    return lambda tokens: (stemmer.stem(token) for token in tokens)\n",
    "def remove_numbers(tokens):\n",
    "    def is_number(string):\n",
    "        try:\n",
    "            float(string)\n",
    "            return True\n",
    "        except ValueError:\n",
    "            return False\n",
    "    return (token for token in tokens if not is_number(token))\n",
    "def remove_spaces(text):\n",
    "    return re.sub(r'\\s+', ' ', text)\n",
    "def remove_symbols(symbols, separator=' '):\n",
    "    return lambda text: re.sub(symbols + '+', separator, text)\n",
    "def remove_single(tokens):\n",
    "    return (token for token in tokens if len(token) != 1)"
   ]
  },
  {
   "cell_type": "markdown",
   "metadata": {},
   "source": [
    "## Специальные символы\n",
    "- Арифметические операции\n",
    "- Знаки препинания\n",
    "- Различные скобки\n",
    "- Слэши\n",
    "- \"Мягкий\" дефис: \\xad \n",
    "- А также $, #, №, @, €, •"
   ]
  },
  {
   "cell_type": "code",
   "execution_count": 5,
   "metadata": {},
   "outputs": [],
   "source": [
    "special_symbols = r'''[-+\\%*;:\\'\"()[\\]^$#№@!.,?/|\\\\<>{}—«»€•–]'''\n",
    "xad_symbol = r'''\\xad'''"
   ]
  },
  {
   "cell_type": "code",
   "execution_count": 6,
   "metadata": {},
   "outputs": [],
   "source": [
    "stemmer = SnowballStemmer('russian')\n",
    "rus_stem = stem(stemmer)"
   ]
  },
  {
   "cell_type": "code",
   "execution_count": 7,
   "metadata": {},
   "outputs": [],
   "source": [
    "default_stop_words = set((stemmer.stem(stopword.lower()) for stopword in stopwords.words('russian')))\n",
    "remove_default_stopwords = remove_stopwords(default_stop_words)"
   ]
  },
  {
   "cell_type": "code",
   "execution_count": 8,
   "metadata": {},
   "outputs": [],
   "source": [
    "import json\n",
    "with open('stopwords.json', 'r', encoding='utf-8') as f:\n",
    "    own_stop_words = set((stemmer.stem(stopword.lower()) for stopword in json.loads(f.read())))\n",
    "remove_own_stopwords = remove_stopwords(own_stop_words)"
   ]
  },
  {
   "cell_type": "code",
   "execution_count": 9,
   "metadata": {},
   "outputs": [],
   "source": [
    "preprocesses = [remove_spaces, remove_symbols(special_symbols), remove_symbols(xad_symbol, ''), tokenize, rus_stem, remove_default_stopwords, remove_own_stopwords, remove_single, remove_numbers, tolower]"
   ]
  },
  {
   "cell_type": "markdown",
   "metadata": {},
   "source": [
    "- Препроцессим текста \n",
    "- Конкатенируем заново токены через пробел"
   ]
  },
  {
   "cell_type": "code",
   "execution_count": 10,
   "metadata": {},
   "outputs": [],
   "source": [
    "preprocessed_publications = [' '.join(compose(preprocesses)(publication)) for publication in publications]\n",
    "joined_preprocessed_publications = ' '.join(preprocessed_publications)"
   ]
  },
  {
   "cell_type": "markdown",
   "metadata": {},
   "source": [
    "## Меры\n",
    "- Обычная Евклидова [0, ∞)\n",
    "- Нормализованная Евклидова \\[0, 2]\n",
    "- Косинусное расстояние \\[0, 1]"
   ]
  },
  {
   "cell_type": "code",
   "execution_count": 11,
   "metadata": {},
   "outputs": [],
   "source": [
    "import scipy as sp\n",
    "def simple_eucl(v1, v2):\n",
    "    delta = v1 - v2\n",
    "    return sp.linalg.norm(delta.toarray())\n",
    "def normal_eucl(v1, v2):\n",
    "    normal_v1 = v1 / sp.linalg.norm(v1.toarray())\n",
    "    normal_v2 = v2 / sp.linalg.norm(v2.toarray())\n",
    "    delta = normal_v1 - normal_v2\n",
    "    return sp.linalg.norm(delta.toarray())\n",
    "def cosine(v1, v2):\n",
    "    return sp.spatial.distance.cosine(v1.toarray(), v2.toarray())"
   ]
  },
  {
   "cell_type": "markdown",
   "metadata": {},
   "source": [
    "## Векторизаторы\n",
    "- Количественные веса\n",
    "- TF-IDF веса"
   ]
  },
  {
   "cell_type": "code",
   "execution_count": 12,
   "metadata": {},
   "outputs": [],
   "source": [
    "import numpy as np\n",
    "from sklearn.feature_extraction.text import CountVectorizer, TfidfVectorizer\n",
    "def make_count(src, min_df=1, max_df=1.5, *, verbose=False, request=None):\n",
    "    vectorizer = CountVectorizer(min_df=min_df, max_df=max_df)\n",
    "    x_train = vectorizer.fit_transform(src)\n",
    "    if verbose:\n",
    "        sample_count, feature_count = x_train.shape\n",
    "        print(f'titles_count={sample_count}, words_count={feature_count}')\n",
    "    if request:\n",
    "        return vectorizer, x_train, vectorizer.transform([request])\n",
    "    return vectorizer, x_train\n",
    "def make_tf_idf(src, *, verbose=False, request=None, top=50):\n",
    "    vectorizer = TfidfVectorizer()\n",
    "    x_train = vectorizer.fit_transform(src)\n",
    "    if verbose:\n",
    "        idxs = np.argsort(vectorizer.idf_)[::-1]\n",
    "        features = vectorizer.get_feature_names()\n",
    "        print(f'titles_count={x_train.shape[0]}, words_count={x_train.shape[1]}')\n",
    "        print([features[i] for i in idxs[-top:]])\n",
    "        print([features[i] for i in idxs[:top]])\n",
    "    if request:\n",
    "        return vectorizer, x_train, vectorizer.transform([request])\n",
    "    return vectorizer, x_train"
   ]
  },
  {
   "cell_type": "code",
   "execution_count": 13,
   "metadata": {},
   "outputs": [],
   "source": [
    "def get_distances(dist_func, src):\n",
    "    return sorted(((dist_func(x_train.getrow(idx), request_vec), text, idx) for idx, text in enumerate(src)), key=lambda x: x[0])"
   ]
  },
  {
   "cell_type": "code",
   "execution_count": 14,
   "metadata": {},
   "outputs": [],
   "source": [
    "def check_results(src, count=1):\n",
    "    total = [(dist, get_distances(dist, src)[:count]) for dist in distances]\n",
    "    for dist_func, dist_res  in total:\n",
    "        print(f'-----------{dist_func.__name__}-----------')\n",
    "        for idx, res in enumerate(dist_res):\n",
    "            print(f'{idx + 1}. Best publication is {res[2]} with distance = {res[0]} :\\n {res[1][:100]}')\n",
    "    return total"
   ]
  },
  {
   "cell_type": "markdown",
   "metadata": {},
   "source": [
    "## Кластеризация\n",
    "- количество кластеров 7\n",
    "- считаем что кластеры будут апроксимировать хабы"
   ]
  },
  {
   "cell_type": "code",
   "execution_count": 15,
   "metadata": {},
   "outputs": [],
   "source": [
    "from utils import columnize\n",
    "from sklearn.cluster import KMeans\n",
    "def train(n_clusters=3):\n",
    "    model = KMeans(n_clusters=n_clusters, init='k-means++', max_iter=100, n_init=1)\n",
    "    model.fit(x_train)\n",
    "    return model\n",
    "def print_model():\n",
    "    print('Top terms per cluster:')\n",
    "    order_centroids = model.cluster_centers_.argsort()[:, ::-1]\n",
    "    terms = vectorizer.get_feature_names()\n",
    "    print_list = list(np.array([[f'Cluster {i}:'] + [f' {terms[j]}' for j in order_centroids[i, :10]] for i in range(n_clusters)]).flat)\n",
    "    for values in columnize(print_list, cols=n_clusters):\n",
    "        print(' '.join(value.ljust(20) for value in values))"
   ]
  },
  {
   "cell_type": "code",
   "execution_count": 16,
   "metadata": {},
   "outputs": [],
   "source": [
    "n_clusters = 7\n",
    "request = request # если захочется поменять\n",
    "preprocessed_request = ' '.join(list(compose(preprocesses)(request)))\n",
    "distances = [simple_eucl, normal_eucl, cosine]"
   ]
  },
  {
   "cell_type": "markdown",
   "metadata": {},
   "source": [
    "## Количественный векторизатор и не предобработанные данные:"
   ]
  },
  {
   "cell_type": "code",
   "execution_count": 17,
   "metadata": {
    "tags": []
   },
   "outputs": [
    {
     "output_type": "stream",
     "name": "stdout",
     "text": "titles_count=181, words_count=26747\n-----------simple_eucl-----------\n1. Best publication is 92 with distance = 38.40572873934304 :\n 7 ошибок, которые совершают кандидаты в социальных сетях «Ведите социальные сети так, будто завтра в\n2. Best publication is 117 with distance = 38.535697735995385 :\n 6 причин вашей усталости Постоянно устаете и не знаете почему? \nНаш пост поможет вам понять в чем же\n3. Best publication is 143 with distance = 38.80721582386451 :\n Видео: конкурс технологических стартапов Danske Ideer 2016 Пока я нахожусь в Дании, решил сходить на\n4. Best publication is 168 with distance = 38.88444419044716 :\n Киберспорт принесёт в 2016 году почти $500 млн прибыли \n\nКак сообщает аудиторская компания Pricewate\n5. Best publication is 138 with distance = 38.961519477556315 :\n Бен Зильберман: важно идти вперёд, пока это возможно \n\nСамое сложное при запуске стартапа — продолжа\n-----------normal_eucl-----------\n1. Best publication is 157 with distance = 0.9131337427801735 :\n Лень как признак гениальности. 4 вида лени и нужно ли с ней бороться \n\nБывало с вами такое, что нужн\n2. Best publication is 162 with distance = 0.9196970794543073 :\n Telegram — это революция в медиа \nМедиа в современном мире постоянно жалуется на недостаточное внима\n3. Best publication is 126 with distance = 0.92184300723424 :\n Заметки фенолога, советника по маркетингу и смысл жизни автоматизации в непривычных сегментах \n\nНа с\n4. Best publication is 150 with distance = 0.9416587995966909 :\n Важные годы. Определяющее десятилетие от 20 до 30 лет \nМногие люди, подойдя к 30 годам начинают заду\n5. Best publication is 70 with distance = 0.9475827544377585 :\n 11 шагов к хорошему интернет-магазину. Сегментируйте предложение Это — четвертая статья в серии «11 \n-----------cosine-----------\n1. Best publication is 157 with distance = 0.41690661610186397 :\n Лень как признак гениальности. 4 вида лени и нужно ли с ней бороться \n\nБывало с вами такое, что нужн\n2. Best publication is 162 with distance = 0.42292135897839134 :\n Telegram — это революция в медиа \nМедиа в современном мире постоянно жалуется на недостаточное внима\n3. Best publication is 126 with distance = 0.4248972649933337 :\n Заметки фенолога, советника по маркетингу и смысл жизни автоматизации в непривычных сегментах \n\nНа с\n4. Best publication is 150 with distance = 0.44336064742894044 :\n Важные годы. Определяющее десятилетие от 20 до 30 лет \nМногие люди, подойдя к 30 годам начинают заду\n5. Best publication is 70 with distance = 0.4489565382539247 :\n 11 шагов к хорошему интернет-магазину. Сегментируйте предложение Это — четвертая статья в серии «11 \n"
    }
   ],
   "source": [
    "vectorizer, x_train, request_vec = make_count(publications, verbose=True, request=request)\n",
    "results = check_results(publications, 5)"
   ]
  },
  {
   "cell_type": "markdown",
   "metadata": {},
   "source": [
    "### Вывод значений в кластерах"
   ]
  },
  {
   "cell_type": "code",
   "execution_count": 18,
   "metadata": {
    "tags": []
   },
   "outputs": [
    {
     "output_type": "stream",
     "name": "stdout",
     "text": "Top terms per cluster:\nCluster 0:           Cluster 1:           Cluster 2:           Cluster 3:           Cluster 4:           Cluster 5:           Cluster 6:          \n на                   не                   что                  на                   на                   на                   на                 \n не                   что                  на                   для                  не                   бренда               не                 \n что                  на                   загрузки             не                   что                  трафика              что                \n для                  это                  время                что                  вы                   для                  мы                 \n по                   вы                   сайта                по                   это                  рекламы              это                \n из                   то                   сделали              бизнес               как                  интернет             то                 \n это                  если                 результат            как                  для                  брендовой            как                \n как                  для                  измерялось           это                  то                   кампании             для                \n за                   но                   источник             или                  или                  такой                по                 \n от                   как                  onload               от                   если                 является             если               \n"
    }
   ],
   "source": [
    "model = train(n_clusters)\n",
    "print_model()"
   ]
  },
  {
   "cell_type": "markdown",
   "metadata": {},
   "source": [
    "## TF-IDF векторизатор и не предобработанные данные:"
   ]
  },
  {
   "cell_type": "code",
   "execution_count": 19,
   "metadata": {
    "tags": []
   },
   "outputs": [
    {
     "output_type": "stream",
     "name": "stdout",
     "text": "titles_count=181, words_count=26747\n['больше', 'быть', 'поэтому', 'со', 'этого', 'который', 'во', 'вы', 'тем', 'уже', 'когда', 'того', 'также', 'они', 'чем', 'можно', 'том', 'будет', 'он', 'есть', 'время', 'этом', 'же', 'чтобы', 'мы', 'его', 'более', 'при', 'если', 'может', 'до', 'их', 'компании', 'только', 'которые', 'все', 'то', 'или', 'так', 'но', 'это', 'от', 'за', 'как', 'из', 'не', 'для', 'по', 'что', 'на']\n['ящиках', 'замечала', 'xi', 'первоисточником', 'первоисточники', 'первоисточник', 'первозванного', 'xing', 'xix', 'первичных', 'первичный', 'первичной', 'первичного', 'первичная', 'первички', 'первенца', 'первенстве', 'первоклассными', 'xlhealth', 'замечаниями', 'пенсионный', 'пенсионного', 'пенсионеры', 'пенсии', 'пенициллин', 'пенг', 'пекки', 'пекка', 'пек', 'пейте', 'пейзажем', 'пейджа', 'первоклассная', 'xg', 'замужеству', 'wpbeginner', 'заметка', 'worldphone', 'заметки', 'перевес', 'перевернуть', 'перевернула', 'перевела', 'переведенной', 'переведения', 'переварить', 'перебросили', 'переборки', 'переборкам', 'заметку']\n-----------simple_eucl-----------\n1. Best publication is 59 with distance = 1.2722571300494936 :\n Заседание продолжается: Google все-таки «объяснит» российским властям, как работает экосистема Andro\n2. Best publication is 157 with distance = 1.2819947659916047 :\n Лень как признак гениальности. 4 вида лени и нужно ли с ней бороться \n\nБывало с вами такое, что нужн\n3. Best publication is 161 with distance = 1.2838577566318112 :\n 6 типов рекламмы в Facebook, которые помогают привлекать и возвращать клиентов \nВ этой статье описан\n4. Best publication is 162 with distance = 1.2874267634670569 :\n Telegram — это революция в медиа \nМедиа в современном мире постоянно жалуется на недостаточное внима\n5. Best publication is 73 with distance = 1.290971387251593 :\n Всё, что в области инфотехнологий говорят о маркетинге, не имеет отношения к действительности \n\nСама\n-----------normal_eucl-----------\n1. Best publication is 59 with distance = 1.2722571300494943 :\n Заседание продолжается: Google все-таки «объяснит» российским властям, как работает экосистема Andro\n2. Best publication is 157 with distance = 1.2819947659916076 :\n Лень как признак гениальности. 4 вида лени и нужно ли с ней бороться \n\nБывало с вами такое, что нужн\n3. Best publication is 161 with distance = 1.2838577566318128 :\n 6 типов рекламмы в Facebook, которые помогают привлекать и возвращать клиентов \nВ этой статье описан\n4. Best publication is 162 with distance = 1.2874267634670575 :\n Telegram — это революция в медиа \nМедиа в современном мире постоянно жалуется на недостаточное внима\n5. Best publication is 73 with distance = 1.2909713872515938 :\n Всё, что в области инфотехнологий говорят о маркетинге, не имеет отношения к действительности \n\nСама\n-----------cosine-----------\n1. Best publication is 59 with distance = 0.8093191024808877 :\n Заседание продолжается: Google все-таки «объяснит» российским властям, как работает экосистема Andro\n2. Best publication is 157 with distance = 0.8217552900149383 :\n Лень как признак гениальности. 4 вида лени и нужно ли с ней бороться \n\nБывало с вами такое, что нужн\n3. Best publication is 161 with distance = 0.8241453696318355 :\n 6 типов рекламмы в Facebook, которые помогают привлекать и возвращать клиентов \nВ этой статье описан\n4. Best publication is 162 with distance = 0.8287338356456313 :\n Telegram — это революция в медиа \nМедиа в современном мире постоянно жалуется на недостаточное внима\n5. Best publication is 73 with distance = 0.8333035613511521 :\n Всё, что в области инфотехнологий говорят о маркетинге, не имеет отношения к действительности \n\nСама\n"
    }
   ],
   "source": [
    "vectorizer, x_train, request_vec = make_tf_idf(publications, verbose=True, request=request)\n",
    "tfidf_results = check_results(publications, 5)"
   ]
  },
  {
   "cell_type": "code",
   "execution_count": 20,
   "metadata": {
    "tags": []
   },
   "outputs": [
    {
     "output_type": "stream",
     "name": "stdout",
     "text": "Top terms per cluster:\nCluster 0:           Cluster 1:           Cluster 2:           Cluster 3:           Cluster 4:           Cluster 5:           Cluster 6:          \n мы                   на                   baidu                talent               на                   google               не                 \n не                   не                   chrome               unleashed            бизнес               фонд                 на                 \n вам                  что                  tidal                awards               по                   acorns               что                \n роснано              вы                   airtime              стартап              для                  на                   это                \n на                   для                  kamcord              лучший               данных               фонда                то                 \n вы                   по                   video                ричардом             не                   android              вы                 \n нас                  это                  пользователей        возняк               вещей                ларри                для                \n что                  как                  на                   брэнсоном            объектов             рублей               как                \n это                  или                  паркер               стив                 uber                 пейдж                мы                 \n university           рекламы              шон                  инноваций            что                  размере              но                 \n"
    }
   ],
   "source": [
    "model = train(n_clusters)\n",
    "print_model()"
   ]
  },
  {
   "cell_type": "markdown",
   "metadata": {},
   "source": [
    "## Количественный векторизатор и предобработанные данные:"
   ]
  },
  {
   "cell_type": "code",
   "execution_count": 21,
   "metadata": {
    "tags": []
   },
   "outputs": [
    {
     "output_type": "stream",
     "name": "stdout",
     "text": "titles_count=181, words_count=11707\n-----------simple_eucl-----------\n1. Best publication is 10 with distance = 33.13608305156178 :\n интересн событ произошедш выходн понедельник коротк подборк могл пропуст выходн дни динамичн должн б\n2. Best publication is 61 with distance = 33.58571124749333 :\n vlog программист программирован жизн герман привет жив работа гамбург август прошл нача вест влог де\n3. Best publication is 24 with distance = 33.63034344160047 :\n добав paypal оплат услуг последн врем участ жалоб зарубежн клиент оплат услуг предлага способ оплат \n4. Best publication is 87 with distance = 33.926390907374746 :\n интересн событ произошедш выходн понедельник коротк подборк могл пропуст выходн дни большинств онлай\n5. Best publication is 164 with distance = 33.97057550292606 :\n интересн событ произошедш выходн понедельник коротк подборк могл пропуст выходн дни ларр пейдж ежене\n-----------normal_eucl-----------\n1. Best publication is 161 with distance = 1.111057742682411 :\n тип рекламм facebook помога привлека возвраща клиент стат описа необычн тип реклам facebook знат пос\n2. Best publication is 118 with distance = 1.126715970759003 :\n выбор оптимальн вид интернет трафик проведен брендов рекламн кампан цел дан стат явля изучен вопрос \n3. Best publication is 132 with distance = 1.1702086198928798 :\n нативн реклам vs реклам баннерн узнаваем бренд голосован кошельк нативн реклам наибол обсужда сред э\n4. Best publication is 2 with distance = 1.1823666281281056 :\n издательств выступа прот блокировщик реклам браузер brave бывш ceo mozilla блокировщик реклам стал н\n5. Best publication is 73 with distance = 1.220353861182142 :\n област инфотехнолог говор маркетинг имеет отношен проблем маркетинг информацион технолог состо марке\n-----------cosine-----------\n1. Best publication is 161 with distance = 0.6172246537872674 :\n тип рекламм facebook помога привлека возвраща клиент стат описа необычн тип реклам facebook знат пос\n2. Best publication is 118 with distance = 0.6347444393817014 :\n выбор оптимальн вид интернет трафик проведен брендов рекламн кампан цел дан стат явля изучен вопрос \n3. Best publication is 132 with distance = 0.6846941070357992 :\n нативн реклам vs реклам баннерн узнаваем бренд голосован кошельк нативн реклам наибол обсужда сред э\n4. Best publication is 2 with distance = 0.698995421655513 :\n издательств выступа прот блокировщик реклам браузер brave бывш ceo mozilla блокировщик реклам стал н\n5. Best publication is 73 with distance = 0.7446317732510814 :\n област инфотехнолог говор маркетинг имеет отношен проблем маркетинг информацион технолог состо марке\n"
    }
   ],
   "source": [
    "vectorizer, x_train, request_vec = make_count(preprocessed_publications, verbose=True, request=preprocessed_request)\n",
    "preprocessed_results = check_results(preprocessed_publications, 5)"
   ]
  },
  {
   "cell_type": "code",
   "execution_count": 22,
   "metadata": {
    "tags": []
   },
   "outputs": [
    {
     "output_type": "stream",
     "name": "stdout",
     "text": "Top terms per cluster:\nCluster 0:           Cluster 1:           Cluster 2:           Cluster 3:           Cluster 4:           Cluster 5:           Cluster 6:          \n дан                  компан               результат            стат                 реклам               интернет             проект             \n пользовател          бизнес               загрузк              люд                  бренд                оо                   процесс            \n приложен             работ                сайт                 текст                вид                  магазин              заказчик           \n информац             нов                  врем                 чита                 трафик               ип                   бизнес             \n покупател            клиент               сдела                блог                 брендов              товар                команд             \n бизнес               пользовател          измеря               письм                интернет             налогов              задач              \n сайт                 цел                  источник             контент              рекламн              чек                  организац          \n мобильн              возможн              секунд               компан               кампан               документ             клиент             \n покупк               решен                полн                 сайт                 продвижен            регистрац            компан             \n продукт              вещ                  onload               дел                  явля                 систем               разработк          \n"
    }
   ],
   "source": [
    "model = train(n_clusters)\n",
    "print_model()"
   ]
  },
  {
   "cell_type": "markdown",
   "metadata": {},
   "source": [
    "## TF-IDF векторизатор и предобработанные данные:"
   ]
  },
  {
   "cell_type": "code",
   "execution_count": 23,
   "metadata": {
    "tags": []
   },
   "outputs": [
    {
     "output_type": "stream",
     "name": "stdout",
     "text": "titles_count=181, words_count=11707\n['развит', 'использова', 'информац', 'сред', 'задач', 'вид', 'интернет', 'сайт', 'основн', 'крупн', 'последн', 'стал', 'цел', 'человек', 'след', 'необходим', 'случа', 'количеств', 'сторон', 'дел', 'говор', 'нача', 'люб', 'дела', 'времен', 'люд', 'например', 'проект', 'должн', 'явля', 'важн', 'стат', 'результат', 'вопрос', 'рынк', 'бизнес', 'клиент', 'поэт', 'дан', 'сдела', 'пользовател', 'получ', 'решен', 'част', 'врем', 'работа', 'работ', 'возможн', 'нов', 'компан']\n['100а', 'опроверг', 'оповещен', 'опоздан', 'опозна', 'опознава', 'опорн', 'броненосц', 'бронежилет', 'опрашива', 'брокерск', 'бродяг', 'опробова', 'опровержен', 'оплот', 'опрометчив', 'бродкаст', 'бриллиант', 'оптимизир', 'брикма', 'оптов', 'бридж', 'опублику', 'брендов', 'опустошен', 'опцион', 'оплошн', 'бросок', 'оракл', 'операторск', 'олигопол', 'олимпийск', 'ользовател', 'омниканальн', 'букет', 'букеровск', 'буквоед', 'буйн', 'опер', 'оперативк', 'будораж', 'будильник', 'брошен', 'бубн', 'оперед', 'опережа', 'оперет', 'оперир', 'оперирова', 'брюс']\n-----------simple_eucl-----------\n1. Best publication is 161 with distance = 1.2251741624654469 :\n тип рекламм facebook помога привлека возвраща клиент стат описа необычн тип реклам facebook знат пос\n2. Best publication is 118 with distance = 1.2422161897802046 :\n выбор оптимальн вид интернет трафик проведен брендов рекламн кампан цел дан стат явля изучен вопрос \n3. Best publication is 132 with distance = 1.2773511976880885 :\n нативн реклам vs реклам баннерн узнаваем бренд голосован кошельк нативн реклам наибол обсужда сред э\n4. Best publication is 59 with distance = 1.2817331380672512 :\n заседан продолжа google объясн российск власт работа экосистем android корпорац согласн решен арбитр\n5. Best publication is 73 with distance = 1.2857919538014226 :\n област инфотехнолог говор маркетинг имеет отношен проблем маркетинг информацион технолог состо марке\n-----------normal_eucl-----------\n1. Best publication is 161 with distance = 1.2251741624654473 :\n тип рекламм facebook помога привлека возвраща клиент стат описа необычн тип реклам facebook знат пос\n2. Best publication is 118 with distance = 1.242216189780205 :\n выбор оптимальн вид интернет трафик проведен брендов рекламн кампан цел дан стат явля изучен вопрос \n3. Best publication is 132 with distance = 1.2773511976880887 :\n нативн реклам vs реклам баннерн узнаваем бренд голосован кошельк нативн реклам наибол обсужда сред э\n4. Best publication is 59 with distance = 1.2817331380672512 :\n заседан продолжа google объясн российск власт работа экосистем android корпорац согласн решен арбитр\n5. Best publication is 73 with distance = 1.2857919538014235 :\n област инфотехнолог говор маркетинг имеет отношен проблем маркетинг информацион технолог состо марке\n-----------cosine-----------\n1. Best publication is 161 with distance = 0.7505258641864552 :\n тип рекламм facebook помога привлека возвраща клиент стат описа необычн тип реклам facebook знат пос\n2. Best publication is 118 with distance = 0.7715505310760251 :\n выбор оптимальн вид интернет трафик проведен брендов рекламн кампан цел дан стат явля изучен вопрос \n3. Best publication is 132 with distance = 0.8158130411175971 :\n нативн реклам vs реклам баннерн узнаваем бренд голосован кошельк нативн реклам наибол обсужда сред э\n4. Best publication is 59 with distance = 0.8214199186098617 :\n заседан продолжа google объясн российск власт работа экосистем android корпорац согласн решен арбитр\n5. Best publication is 73 with distance = 0.8266304742302409 :\n област инфотехнолог говор маркетинг имеет отношен проблем маркетинг информацион технолог состо марке\n"
    }
   ],
   "source": [
    "vectorizer, x_train, request_vec = make_tf_idf(preprocessed_publications, verbose=True, request=preprocessed_request)\n",
    "preprocessed_tfidf_results = check_results(preprocessed_publications, 5)"
   ]
  },
  {
   "cell_type": "code",
   "execution_count": 24,
   "metadata": {
    "tags": []
   },
   "outputs": [
    {
     "output_type": "stream",
     "name": "stdout",
     "text": "Top terms per cluster:\nCluster 0:           Cluster 1:           Cluster 2:           Cluster 3:           Cluster 4:           Cluster 5:           Cluster 6:          \n люд                  пользовател          клиент               товар                цел                  бизнес               компан             \n жизн                 приложен             письм                магазин              работ                дан                  google             \n компан               реклам               продукт              сайт                 страх                объект               uber               \n стартап              покупател            компан               relap                проблем              вещ                  миллиард           \n проект               мобильн              email                клиент               проект               взаимодейств         сервис             \n работ                сайт                 проект               mrr                  задач                технолог             рынк               \n работа               рекламн              dash                 рубл                 вопрос               процесс              росс               \n мир                  объявлен             сайт                 vimpelcom            мысл                 компан               такс               \n дел                  компан               команд               цен                  методик              информацион          выручк             \n маркетинг            бренд                фонд                 покупател            метод                интернет             млн                \n"
    }
   ],
   "source": [
    "model = train(n_clusters)\n",
    "print_model()"
   ]
  },
  {
   "cell_type": "markdown",
   "metadata": {},
   "source": [
    "## Итоговые результаты по расстоянию:\n",
    "Хотя при использовании текстов нужно смотреть на сами текста или на их теги"
   ]
  },
  {
   "cell_type": "code",
   "execution_count": 25,
   "metadata": {},
   "outputs": [
    {
     "output_type": "execute_result",
     "data": {
      "text/plain": "                         simple_eucl  normal_eucl    cosine\nNot Preprocessed           38.405729     0.913134  0.416907\nPreprocessed               33.136083     1.111058  0.617225\nNot Preprocessed TF-IDF     1.272257     1.272257  0.809319\nPreprocessed TF-IDF         1.225174     1.225174  0.750526",
      "text/html": "<div>\n<style scoped>\n    .dataframe tbody tr th:only-of-type {\n        vertical-align: middle;\n    }\n\n    .dataframe tbody tr th {\n        vertical-align: top;\n    }\n\n    .dataframe thead th {\n        text-align: right;\n    }\n</style>\n<table border=\"1\" class=\"dataframe\">\n  <thead>\n    <tr style=\"text-align: right;\">\n      <th></th>\n      <th>simple_eucl</th>\n      <th>normal_eucl</th>\n      <th>cosine</th>\n    </tr>\n  </thead>\n  <tbody>\n    <tr>\n      <th>Not Preprocessed</th>\n      <td>38.405729</td>\n      <td>0.913134</td>\n      <td>0.416907</td>\n    </tr>\n    <tr>\n      <th>Preprocessed</th>\n      <td>33.136083</td>\n      <td>1.111058</td>\n      <td>0.617225</td>\n    </tr>\n    <tr>\n      <th>Not Preprocessed TF-IDF</th>\n      <td>1.272257</td>\n      <td>1.272257</td>\n      <td>0.809319</td>\n    </tr>\n    <tr>\n      <th>Preprocessed TF-IDF</th>\n      <td>1.225174</td>\n      <td>1.225174</td>\n      <td>0.750526</td>\n    </tr>\n  </tbody>\n</table>\n</div>"
     },
     "metadata": {},
     "execution_count": 25
    }
   ],
   "source": [
    "matrix = pd.DataFrame(data={\n",
    "    'Not Preprocessed': {func.__name__: res[0][0] for func, res in results}, \n",
    "    'Preprocessed': {func.__name__: res[0][0] for func, res in preprocessed_results},\n",
    "    'Not Preprocessed TF-IDF': {func.__name__: res[0][0] for func, res in tfidf_results}, \n",
    "    'Preprocessed TF-IDF': {func.__name__: res[0][0] for func, res in preprocessed_tfidf_results},\n",
    "    }).transpose()\n",
    "matrix"
   ]
  }
 ],
 "metadata": {
  "language_info": {
   "codemirror_mode": {
    "name": "ipython",
    "version": 3
   },
   "file_extension": ".py",
   "mimetype": "text/x-python",
   "name": "python",
   "nbconvert_exporter": "python",
   "pygments_lexer": "ipython3",
   "version": 3
  },
  "orig_nbformat": 2,
  "kernelspec": {
   "name": "python_defaultSpec_1594889369307",
   "display_name": "Python 3.7.6 64-bit ('base': conda)"
  }
 },
 "nbformat": 4,
 "nbformat_minor": 2
}