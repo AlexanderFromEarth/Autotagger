{
 "cells": [
  {
   "cell_type": "code",
   "execution_count": 1,
   "metadata": {},
   "outputs": [],
   "source": [
    "from parse import habr_load, law_load, find_laws\n",
    "def is_not_none(obj):\n",
    "    return obj is not None\n",
    "articles = filter(is_not_none, map(habr_load, range(300000, 300400)))\n",
    "dst_path = \"data\""
   ]
  },
  {
   "cell_type": "code",
   "execution_count": 2,
   "metadata": {},
   "outputs": [],
   "source": [
    "import os\n",
    "def process_habr(article):\n",
    "    fname = os.path.join(dst_path, f'habr/post__{article[\"id\"]}.txt')\n",
    "    with open(fname, 'w', encoding='utf-8') as file:\n",
    "        file.write(article['text'])\n",
    "    return article['id'], article['title'], article['tags'], fname"
   ]
  },
  {
   "cell_type": "code",
   "execution_count": 3,
   "metadata": {},
   "outputs": [
    {
     "output_type": "execute_result",
     "data": {
      "text/plain": "          0                                                  1  \\\n0    300000         «Наёмники блокчейна» — как ими становятся?   \n1    300002                Динамичность должна быть безопасной   \n2    300004  Издательства выступают против блокировщика рек...   \n3    300006    Выход из зоны комфорта, как новая бизнес-модель   \n4    300008  «Уберизация» поможет российскому рынку рекрути...   \n..      ...                                                ...   \n177  300390  Капитализация Kamcord превысила $100 млн после...   \n178  300392  Конференция ISDEF-2016 в Казани: почему это бы...   \n179  300394                 AVO и другие альтернативы роумингу   \n180  300396  Шпаргалка в офис: ключевые метрики для развити...   \n181  300398              Nokia хочет выкупить стартап Withings   \n\n                                                     2  \\\n0    [Dash, блокчейн, криптовалюта, управление, \\n ...   \n1    [стартапы, программы, разработка программного ...   \n2    [mozilla, Brave, блокировщики рекламы, судебно...   \n3    [бизнес-модель, it, стартап, интернет, \\n     ...   \n4    [mail.ru group, headhunter, российский рынок, ...   \n..                                                 ...   \n177  [Time Warner, time warner cable, kamcord, венч...   \n178  [isdef, конференция, ит-бизнес, \\n            ...   \n179  [роуминг, voip, конкуренты, стартапы, дата-роу...   \n180  [метрики, развитие бизнеса, \\n                ...   \n181  [nokia, withings, alcatel-lucent, here, \\n    ...   \n\n                              3  \n0    data\\habr/post__300000.txt  \n1    data\\habr/post__300002.txt  \n2    data\\habr/post__300004.txt  \n3    data\\habr/post__300006.txt  \n4    data\\habr/post__300008.txt  \n..                          ...  \n177  data\\habr/post__300390.txt  \n178  data\\habr/post__300392.txt  \n179  data\\habr/post__300394.txt  \n180  data\\habr/post__300396.txt  \n181  data\\habr/post__300398.txt  \n\n[182 rows x 4 columns]",
      "text/html": "<div>\n<style scoped>\n    .dataframe tbody tr th:only-of-type {\n        vertical-align: middle;\n    }\n\n    .dataframe tbody tr th {\n        vertical-align: top;\n    }\n\n    .dataframe thead th {\n        text-align: right;\n    }\n</style>\n<table border=\"1\" class=\"dataframe\">\n  <thead>\n    <tr style=\"text-align: right;\">\n      <th></th>\n      <th>0</th>\n      <th>1</th>\n      <th>2</th>\n      <th>3</th>\n    </tr>\n  </thead>\n  <tbody>\n    <tr>\n      <th>0</th>\n      <td>300000</td>\n      <td>«Наёмники блокчейна» — как ими становятся?</td>\n      <td>[Dash, блокчейн, криптовалюта, управление, \\n ...</td>\n      <td>data\\habr/post__300000.txt</td>\n    </tr>\n    <tr>\n      <th>1</th>\n      <td>300002</td>\n      <td>Динамичность должна быть безопасной</td>\n      <td>[стартапы, программы, разработка программного ...</td>\n      <td>data\\habr/post__300002.txt</td>\n    </tr>\n    <tr>\n      <th>2</th>\n      <td>300004</td>\n      <td>Издательства выступают против блокировщика рек...</td>\n      <td>[mozilla, Brave, блокировщики рекламы, судебно...</td>\n      <td>data\\habr/post__300004.txt</td>\n    </tr>\n    <tr>\n      <th>3</th>\n      <td>300006</td>\n      <td>Выход из зоны комфорта, как новая бизнес-модель</td>\n      <td>[бизнес-модель, it, стартап, интернет, \\n     ...</td>\n      <td>data\\habr/post__300006.txt</td>\n    </tr>\n    <tr>\n      <th>4</th>\n      <td>300008</td>\n      <td>«Уберизация» поможет российскому рынку рекрути...</td>\n      <td>[mail.ru group, headhunter, российский рынок, ...</td>\n      <td>data\\habr/post__300008.txt</td>\n    </tr>\n    <tr>\n      <th>...</th>\n      <td>...</td>\n      <td>...</td>\n      <td>...</td>\n      <td>...</td>\n    </tr>\n    <tr>\n      <th>177</th>\n      <td>300390</td>\n      <td>Капитализация Kamcord превысила $100 млн после...</td>\n      <td>[Time Warner, time warner cable, kamcord, венч...</td>\n      <td>data\\habr/post__300390.txt</td>\n    </tr>\n    <tr>\n      <th>178</th>\n      <td>300392</td>\n      <td>Конференция ISDEF-2016 в Казани: почему это бы...</td>\n      <td>[isdef, конференция, ит-бизнес, \\n            ...</td>\n      <td>data\\habr/post__300392.txt</td>\n    </tr>\n    <tr>\n      <th>179</th>\n      <td>300394</td>\n      <td>AVO и другие альтернативы роумингу</td>\n      <td>[роуминг, voip, конкуренты, стартапы, дата-роу...</td>\n      <td>data\\habr/post__300394.txt</td>\n    </tr>\n    <tr>\n      <th>180</th>\n      <td>300396</td>\n      <td>Шпаргалка в офис: ключевые метрики для развити...</td>\n      <td>[метрики, развитие бизнеса, \\n                ...</td>\n      <td>data\\habr/post__300396.txt</td>\n    </tr>\n    <tr>\n      <th>181</th>\n      <td>300398</td>\n      <td>Nokia хочет выкупить стартап Withings</td>\n      <td>[nokia, withings, alcatel-lucent, here, \\n    ...</td>\n      <td>data\\habr/post__300398.txt</td>\n    </tr>\n  </tbody>\n</table>\n<p>182 rows × 4 columns</p>\n</div>"
     },
     "metadata": {},
     "execution_count": 3
    }
   ],
   "source": [
    "import pandas as pd\n",
    "articles_df = pd.DataFrame(map(process_habr, articles))\n",
    "articles_df"
   ]
  },
  {
   "cell_type": "code",
   "execution_count": 4,
   "metadata": {},
   "outputs": [],
   "source": [
    "articles_df.to_csv(os.path.join(dst_path, 'data.csv'), header=False)"
   ]
  }
 ],
 "metadata": {
  "language_info": {
   "codemirror_mode": {
    "name": "ipython",
    "version": 3
   },
   "file_extension": ".py",
   "mimetype": "text/x-python",
   "name": "python",
   "nbconvert_exporter": "python",
   "pygments_lexer": "ipython3",
   "version": 3
  },
  "orig_nbformat": 2,
  "kernelspec": {
   "name": "python_defaultSpec_1594714693783",
   "display_name": "Python 3.7.6 64-bit ('base': conda)"
  }
 },
 "nbformat": 4,
 "nbformat_minor": 2
}